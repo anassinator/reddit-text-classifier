{
 "cells": [
  {
   "cell_type": "code",
   "execution_count": 1,
   "metadata": {
    "collapsed": false,
    "deletable": true,
    "editable": true
   },
   "outputs": [
    {
     "name": "stderr",
     "output_type": "stream",
     "text": [
      "/usr/lib/python2.7/dist-packages/matplotlib/font_manager.py:273: UserWarning: Matplotlib is building the font cache using fc-list. This may take a moment.\n",
      "  warnings.warn('Matplotlib is building the font cache using fc-list. This may take a moment.')\n"
     ]
    }
   ],
   "source": [
    "import numpy as np\n",
    "import pandas as pd\n",
    "import matplotlib.pyplot as plt\n",
    "import csv\n",
    "\n",
    "%matplotlib inline  "
   ]
  },
  {
   "cell_type": "markdown",
   "metadata": {
    "deletable": true,
    "editable": true
   },
   "source": [
    "# Data Import"
   ]
  },
  {
   "cell_type": "code",
   "execution_count": 2,
   "metadata": {
    "collapsed": false,
    "deletable": true,
    "editable": true
   },
   "outputs": [],
   "source": [
    "data_path = '../data/'\n",
    "train_input_filename = 'train_input.csv'\n",
    "train_output_filename = 'train_output.csv'\n",
    "\n",
    "raw_inputdata = pd.read_csv(data_path+train_input_filename)\n",
    "raw_outputdata = pd.read_csv(data_path+train_output_filename)"
   ]
  },
  {
   "cell_type": "markdown",
   "metadata": {
    "deletable": true,
    "editable": true
   },
   "source": [
    "# Data Analysis"
   ]
  },
  {
   "cell_type": "markdown",
   "metadata": {
    "deletable": true,
    "editable": true
   },
   "source": [
    "## Sneak peek"
   ]
  },
  {
   "cell_type": "code",
   "execution_count": 3,
   "metadata": {
    "collapsed": false,
    "deletable": true,
    "editable": true
   },
   "outputs": [
    {
     "data": {
      "text/plain": [
       "\"<speaker_1> kesler accuses vancouver media of making up stories , throwing people under the bus prohockeytalk . nbcsports . com </s> <speaker_2> i certainly can 't say he 's wrong . the media here is atrocious , canucks could run an <number> - <number> season and win the cup in <number> games and the media would still drum up some sort of controversy somewhere . </s> <speaker_3> canuckleheads </s> </d>\\n\""
      ]
     },
     "execution_count": 3,
     "metadata": {},
     "output_type": "execute_result"
    }
   ],
   "source": [
    "raw_inputdata['conversation'][20]"
   ]
  },
  {
   "cell_type": "markdown",
   "metadata": {
    "deletable": true,
    "editable": true
   },
   "source": [
    "observations: \n",
    "1. Every entery contains multiple speakers\n",
    "2. Each speaker is delimited by <!speaker> ... <!/s> tags.\n",
    "3. Each entry ends with a newline character \n",
    "4. There are some <!number> tags. Looks like the numbers are replaced with these tags.\n",
    "5. The user handles are preceeded by @ symbol\n",
    "6. There are .com and .org website entries interspaced within conversations\n",
    "7. There are some <!/d> tags towards the end just before newline"
   ]
  },
  {
   "cell_type": "markdown",
   "metadata": {
    "deletable": true,
    "editable": true
   },
   "source": [
    "## Number of Classes"
   ]
  },
  {
   "cell_type": "code",
   "execution_count": 4,
   "metadata": {
    "collapsed": false,
    "deletable": true,
    "editable": true
   },
   "outputs": [
    {
     "data": {
      "text/plain": [
       "array(['news', 'nfl', 'soccer', 'movies', 'politics', 'hockey', 'nba',\n",
       "       'worldnews'], dtype=object)"
      ]
     },
     "execution_count": 4,
     "metadata": {},
     "output_type": "execute_result"
    }
   ],
   "source": [
    "classes = raw_outputdata['category'].unique()\n",
    "classes"
   ]
  },
  {
   "cell_type": "markdown",
   "metadata": {
    "deletable": true,
    "editable": true
   },
   "source": [
    "So there are 8 categories"
   ]
  },
  {
   "cell_type": "markdown",
   "metadata": {
    "deletable": true,
    "editable": true
   },
   "source": [
    "## Training Size"
   ]
  },
  {
   "cell_type": "code",
   "execution_count": 5,
   "metadata": {
    "collapsed": false,
    "deletable": true,
    "editable": true
   },
   "outputs": [
    {
     "data": {
      "text/plain": [
       "165000"
      ]
     },
     "execution_count": 5,
     "metadata": {},
     "output_type": "execute_result"
    }
   ],
   "source": [
    "raw_outputdata.shape[0]"
   ]
  },
  {
   "cell_type": "markdown",
   "metadata": {
    "deletable": true,
    "editable": true
   },
   "source": [
    "## Training Size per Class"
   ]
  },
  {
   "cell_type": "code",
   "execution_count": 6,
   "metadata": {
    "collapsed": false,
    "deletable": true,
    "editable": true
   },
   "outputs": [
    {
     "data": {
      "text/plain": [
       "<matplotlib.text.Text at 0x7f348f5a6c10>"
      ]
     },
     "execution_count": 6,
     "metadata": {},
     "output_type": "execute_result"
    },
    {
     "data": {
      "image/png": "[encoded data removed]",
      "text/plain": [
       "<matplotlib.figure.Figure at 0x7f34d0126a90>"
      ]
     },
     "metadata": {},
     "output_type": "display_data"
    }
   ],
   "source": [
    "instances = [raw_outputdata[raw_outputdata['category'] == i].shape[0] for i in raw_outputdata['category'].unique()]\n",
    "\n",
    "ind = np.linspace(1,24,8)\n",
    "\n",
    "plt.bar(ind, instances, 1.7, align = 'center')\n",
    "plt.xticks(ind, classes)\n",
    "plt.ylabel('Training Samples')\n",
    "plt.xlabel('Class')"
   ]
  },
  {
   "cell_type": "markdown",
   "metadata": {
    "collapsed": false,
    "deletable": true,
    "editable": true
   },
   "source": [
    "# Data Clean-up"
   ]
  },
  {
   "cell_type": "markdown",
   "metadata": {
    "deletable": true,
    "editable": true
   },
   "source": [
    "Steps:\n",
    "    1. Run the data cleanup python script"
   ]
  },
  {
   "cell_type": "markdown",
   "metadata": {
    "deletable": true,
    "editable": true
   },
   "source": [
    "# Data Aggregation"
   ]
  },
  {
   "cell_type": "code",
   "execution_count": 142,
   "metadata": {
    "collapsed": false,
    "deletable": true,
    "editable": true
   },
   "outputs": [
    {
     "name": "stdout",
     "output_type": "stream",
     "text": [
      "481175 total words & 25250 unique words for news\n",
      "423795 total words & 21077 unique words for nfl\n",
      "417115 total words & 24861 unique words for soccer\n",
      "449494 total words & 24384 unique words for movies\n",
      "480398 total words & 22220 unique words for politics\n",
      "402058 total words & 23305 unique words for hockey\n",
      "363554 total words & 19338 unique words for nba\n",
      "479658 total words & 26019 unique words for worldnews\n"
     ]
    }
   ],
   "source": [
    "class_features = []\n",
    "class_features_freq = []\n",
    "class_totalwords = []\n",
    "class_uniquewords = []\n",
    "\n",
    "class_features_100 = []\n",
    "class_features_100_freq = []\n",
    "\n",
    "for i in classes:\n",
    "    class_words_id = []\n",
    "\n",
    "    class_idx = raw_outputdata[raw_outputdata['category'] == i]['id']\n",
    "    idx = iter(class_idx)\n",
    "\n",
    "    with open('../git_ws/reddit-text-classifier/data/newfile.csv', 'rb') as csvfile:\n",
    "        reader = csv.reader(csvfile, delimiter=',')\n",
    "        idx_curr = next(idx)\n",
    "        for row in reader:\n",
    "            if row[0] == str(idx_curr):\n",
    "                class_words_id.append(row[1:])\n",
    "                try:\n",
    "                    idx_curr = next(idx)\n",
    "                except StopIteration:\n",
    "                    break\n",
    "            \n",
    "    class_words_df = pd.DataFrame([x for sublist in class_words_id for x in sublist], columns=['words']) \n",
    "    \n",
    "    class_word_count = class_words_df['words'].value_counts()\n",
    "    class_features.append(class_word_count.index.values)\n",
    "    class_features_freq.append(class_word_count)\n",
    "    class_totalwords.append(class_words_df.shape[0])\n",
    "    class_uniquewords.append(class_word_count.shape[0])\n",
    "    \n",
    "    class_word_count_100 = class_word_count[:100]\n",
    "    class_features_100.append(class_word_count_100.index.values)\n",
    "    class_features_100_freq.append(class_word_count_100)\n",
    "    \n",
    "    print (str(class_words_df.shape[0]) + ' total words' + ' & ' + str(class_word_count.shape[0]) + ' unique words for ' + str(i))"
   ]
  },
  {
   "cell_type": "markdown",
   "metadata": {
    "deletable": true,
    "editable": true
   },
   "source": [
    "### Creating Bag of Words"
   ]
  },
  {
   "cell_type": "code",
   "execution_count": null,
   "metadata": {
    "collapsed": false,
    "deletable": true,
    "editable": true
   },
   "outputs": [
    {
     "name": "stdout",
     "output_type": "stream",
     "text": [
      "Analysing 164999 out of 165000"
     ]
    }
   ],
   "source": [
    "from itertools import islice\n",
    "import sys\n",
    "\n",
    "features_100 = pd.DataFrame([x for sublist in class_features_100 for x in sublist], columns=['features'])['features'].unique()\n",
    "\n",
    "train_size = raw_inputdata.shape[0]\n",
    "feature_len = len(features_100)\n",
    "\n",
    "bag_of_words = np.zeros((train_size, feature_len), dtype=int)\n",
    "\n",
    "row_idx = 0\n",
    "with open('../git_ws/reddit-text-classifier/data/newfile.csv', 'rb') as in_csvfile:\n",
    "    reader = csv.reader(in_csvfile, delimiter=',')\n",
    "    \n",
    "    with open('../data/bag_of_words_100.csv', 'wb') as out_csvfile:\n",
    "        writer = csv.writer(out_csvfile, quoting = csv.QUOTE_NONE, skipinitialspace = True, delimiter = ' ', escapechar = ' ')\n",
    "        \n",
    "        for row in islice(reader, 1, None):\n",
    "            #occurance = np.zeros((1, len(features_100)), dtype = int)\n",
    "            sys.stdout.write(\"\\r\" + 'Analysing ' + str(row[0]) + ' out of ' + str(train_size))\n",
    "            sys.stdout.flush()\n",
    "            for word in row[1:]:\n",
    "                \n",
    "                idx = np.where(features_100 == word)\n",
    "                \n",
    "                if idx[0]:  bag_of_words[row_idx,idx[0][0]] += 1\n",
    "                else:       continue\n",
    "                    \n",
    "            writer.writerow(bag_of_words[row_idx,:].tolist())\n",
    "            row_idx += 1\n"
   ]
  },
  {
   "cell_type": "markdown",
   "metadata": {
    "deletable": true,
    "editable": true
   },
   "source": [
    "# Saving Data"
   ]
  },
  {
   "cell_type": "code",
   "execution_count": 127,
   "metadata": {
    "collapsed": false,
    "deletable": true,
    "editable": true
   },
   "outputs": [],
   "source": [
    "import csv\n",
    "\n",
    "with open('../data/class_labels.csv', 'wb') as csvfile:\n",
    "    wr = csv.writer(csvfile)\n",
    "    wr.writerow(classes)\n",
    "\n",
    "with open('../data/class_words.csv', 'wb') as csvfile:\n",
    "    wr = csv.writer(csvfile)\n",
    "    for i in range(len(class_features)):\n",
    "        wr.writerow(class_features[i])\n",
    "\n",
    "with open('../data/class_word_count.csv', 'wb') as csvfile:\n",
    "    wr = csv.writer(csvfile)\n",
    "    for i in range(len(class_features_freq)):\n",
    "        wr.writerow(class_features_freq[i])\n",
    "            \n",
    "with open('../data/class_stats.csv', 'wb') as csvfile:\n",
    "    wr = csv.writer(csvfile)\n",
    "    wr.writerow(np.hstack((['stat_type'], classes)))\n",
    "    wr.writerow(['totalwords'] + class_totalwords)\n",
    "    wr.writerow(['uniquewords'] + class_uniquewords)\n",
    "    \n",
    "with open('../data/features.csv', 'wb') as csvfile:\n",
    "    wr = csv.writer(csvfile)\n",
    "    wr.writerow(features)\n",
    "    \n",
    "with open('../data/features_100.csv', 'wb') as csvfile:\n",
    "    wr = csv.writer(csvfile)\n",
    "    wr.writerow(features_100)"
   ]
  }
 ],
 "metadata": {
  "kernelspec": {
   "display_name": "Python 2",
   "language": "python",
   "name": "python2"
  },
  "language_info": {
   "codemirror_mode": {
    "name": "ipython",
    "version": 2
   },
   "file_extension": ".py",
   "mimetype": "text/x-python",
   "name": "python",
   "nbconvert_exporter": "python",
   "pygments_lexer": "ipython2",
   "version": "2.7.12"
  }
 },
 "nbformat": 4,
 "nbformat_minor": 0
}
