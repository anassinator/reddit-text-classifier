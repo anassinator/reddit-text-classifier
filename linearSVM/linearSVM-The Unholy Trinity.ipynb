{
 "cells": [
  {
   "cell_type": "code",
   "execution_count": 4,
   "metadata": {
    "collapsed": false,
    "deletable": true,
    "editable": true
   },
   "outputs": [
    {
     "name": "stderr",
     "output_type": "stream",
     "text": [
      "/usr/local/lib/python2.7/dist-packages/sklearn/cross_validation.py:44: DeprecationWarning: This module was deprecated in version 0.18 in favor of the model_selection module into which all the refactored classes and functions are moved. Also note that the interface of the new CV iterators are different from that of this module. This module will be removed in 0.20.\n",
      "  \"This module will be removed in 0.20.\", DeprecationWarning)\n"
     ]
    }
   ],
   "source": [
    "import numpy as np\n",
    "import pandas as pd\n",
    "import csv\n",
    "from sklearn.feature_extraction.text import CountVectorizer\n",
    "from sklearn.pipeline import Pipeline\n",
    "from sklearn.cross_validation import train_test_split\n",
    "from sklearn.feature_extraction.text import TfidfTransformer\n",
    "from sklearn import metrics"
   ]
  },
  {
   "cell_type": "code",
   "execution_count": 5,
   "metadata": {
    "collapsed": false,
    "deletable": true,
    "editable": true
   },
   "outputs": [],
   "source": [
    "raw_traininput = pd.read_csv('../data/train_input.csv')\n",
    "raw_trainoutput = pd.read_csv('../data/train_output.csv')\n",
    "\n",
    "raw_testinput = pd.read_csv('../data/test_input.csv')\n",
    "\n",
    "traininput_size = raw_traininput.shape[0]\n",
    "testinput_size = raw_testinput.shape[0]"
   ]
  },
  {
   "cell_type": "code",
   "execution_count": 4,
   "metadata": {
    "collapsed": false,
    "deletable": true,
    "editable": true
   },
   "outputs": [
    {
     "name": "stdout",
     "output_type": "stream",
     "text": [
      "(165000, 2)\n",
      "0.964\n",
      "             precision    recall  f1-score   support\n",
      "\n",
      "     hockey       0.98      0.98      0.98      4170\n",
      "     movies       0.98      0.99      0.99      4510\n",
      "        nba       0.99      0.97      0.98      3696\n",
      "       news       0.93      0.90      0.92      4256\n",
      "        nfl       0.98      0.98      0.98      3978\n",
      "   politics       0.93      0.94      0.94      3943\n",
      "     soccer       0.99      0.99      0.99      4299\n",
      "  worldnews       0.94      0.96      0.95      4148\n",
      "\n",
      "avg / total       0.96      0.96      0.96     33000\n",
      "\n",
      "[[4085   15   19    5   25    1   16    4]\n",
      " [   2 4472    1   11    0    6    4   14]\n",
      " [  40   18 3573    8   32    3   21    1]\n",
      " [   3   21    3 3846   15  191    2  175]\n",
      " [  27    5   17    9 3906    4    8    2]\n",
      " [   2    1    1  179    1 3715    1   43]\n",
      " [  14    7    6    6    9    2 4242   13]\n",
      " [   3    7    0   86    0   67   12 3973]]\n"
     ]
    }
   ],
   "source": [
    "from sklearn.svm import SVC\n",
    "from sklearn.svm import LinearSVC\n",
    "\n",
    "clean_traininput = raw_traininput\n",
    "print clean_traininput.shape\n",
    "\n",
    "cvec = CountVectorizer(analyzer='word', \n",
    "                       stop_words = 'english',\n",
    "                       ngram_range = (1,3))\n",
    "\n",
    "classification = Pipeline([('vectorizer', cvec),\n",
    "                           ('transformer', TfidfTransformer()),\n",
    "                           ('classifier', LinearSVC(loss='hinge'))])\n",
    "\n",
    "train_data, test_data, train_labels, test_labels = train_test_split(clean_traininput['conversation'], \n",
    "                                                                    raw_trainoutput['category'], \n",
    "                                                                    test_size=0.2, \n",
    "                                                                    random_state=105)\n",
    "\n",
    "classification = classification.fit(train_data, train_labels)\n",
    "predicted = classification.predict(test_data)\n",
    "print np.mean(predicted == test_labels)\n",
    "print metrics.classification_report(test_labels, predicted)\n",
    "print metrics.confusion_matrix(test_labels, predicted)"
   ]
  },
  {
   "cell_type": "code",
   "execution_count": 24,
   "metadata": {
    "collapsed": true,
    "deletable": true,
    "editable": true
   },
   "outputs": [],
   "source": [
    "def get_unholy_trinity(X, y):\n",
    "    trinity = set([\"politics\", \"news\", \"worldnews\"])\n",
    "    [unholy, labels] = zip(*[\n",
    "        (X[i], y[i]) for i in X.index\n",
    "        if y[i] in trinity\n",
    "    ])\n",
    "    \n",
    "    return pd.DataFrame(list(unholy), columns=[\"conversation\"]), pd.DataFrame(list(labels), columns=[\"category\"])"
   ]
  },
  {
   "cell_type": "code",
   "execution_count": 25,
   "metadata": {
    "collapsed": false,
    "deletable": true,
    "editable": true
   },
   "outputs": [],
   "source": [
    "unholy_rawdata, unholy_labels = get_unholy_trinity(raw_traininput[\"conversation\"], raw_trainoutput[\"category\"])"
   ]
  },
  {
   "cell_type": "code",
   "execution_count": null,
   "metadata": {
    "collapsed": false
   },
   "outputs": [],
   "source": [
    "%timeit\n",
    "from sklearn.svm import SVC\n",
    "from sklearn.svm import LinearSVC\n",
    "from sklearn.tree import DecisionTreeClassifier\n",
    "\n",
    "cvec = CountVectorizer(analyzer='word', \n",
    "                       stop_words = 'english',\n",
    "                       ngram_range = (1,3))\n",
    "\n",
    "classification = Pipeline([('vectorizer', cvec),\n",
    "                           ('transformer', TfidfTransformer()),\n",
    "                           #('classifier', LinearSVC(loss='hinge'))])\n",
    "                           ('classifier', DecisionTreeClassifier())])\n",
    "\n",
    "train_data, test_data, train_labels, test_labels = train_test_split(unholy_rawdata['conversation'], \n",
    "                                                                    unholy_labels['category'], \n",
    "                                                                    test_size=0.2, \n",
    "                                                                    random_state=105)\n",
    "\n",
    "classification = classification.fit(train_data, train_labels)\n",
    "predicted = classification.predict(test_data)\n",
    "print np.mean(predicted == test_labels)\n",
    "print metrics.classification_report(test_labels, predicted)\n",
    "print metrics.confusion_matrix(test_labels, predicted)"
   ]
  },
  {
   "cell_type": "code",
   "execution_count": 6,
   "metadata": {
    "collapsed": false,
    "deletable": true,
    "editable": true
   },
   "outputs": [],
   "source": [
    "result = pd.DataFrame({'category' : predicted2})\n",
    "result.to_csv('../data/test_predict.csv', index = True, header = True, index_label = 'id')"
   ]
  },
  {
   "cell_type": "code",
   "execution_count": 7,
   "metadata": {
    "collapsed": false,
    "deletable": true,
    "editable": true
   },
   "outputs": [
    {
     "data": {
      "text/plain": [
       "(53218, 2)"
      ]
     },
     "execution_count": 7,
     "metadata": {},
     "output_type": "execute_result"
    }
   ],
   "source": [
    "clean_testinput.shape"
   ]
  },
  {
   "cell_type": "code",
   "execution_count": null,
   "metadata": {
    "collapsed": true,
    "deletable": true,
    "editable": true
   },
   "outputs": [],
   "source": []
  }
 ],
 "metadata": {
  "kernelspec": {
   "display_name": "Python 2",
   "language": "python",
   "name": "python2"
  },
  "language_info": {
   "codemirror_mode": {
    "name": "ipython",
    "version": 2
   },
   "file_extension": ".py",
   "mimetype": "text/x-python",
   "name": "python",
   "nbconvert_exporter": "python",
   "pygments_lexer": "ipython2",
   "version": "2.7.12"
  }
 },
 "nbformat": 4,
 "nbformat_minor": 2
}
