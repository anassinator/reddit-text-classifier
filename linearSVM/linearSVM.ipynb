{
 "cells": [
  {
   "cell_type": "code",
   "execution_count": 95,
   "metadata": {
    "collapsed": false,
    "deletable": true,
    "editable": true
   },
   "outputs": [],
   "source": [
    "import numpy as np\n",
    "import pandas as pd\n",
    "import csv\n",
    "from sklearn.feature_extraction.text import CountVectorizer\n",
    "from sklearn.pipeline import Pipeline\n",
    "from sklearn.cross_validation import train_test_split\n",
    "from sklearn.feature_extraction.text import TfidfTransformer\n",
    "from sklearn import metrics"
   ]
  },
  {
   "cell_type": "code",
   "execution_count": 96,
   "metadata": {
    "collapsed": false,
    "deletable": true,
    "editable": true
   },
   "outputs": [],
   "source": [
    "raw_traininput = pd.read_csv('../data/train_input.csv')\n",
    "raw_trainoutput = pd.read_csv('../data/train_output.csv')\n",
    "\n",
    "raw_testinput = pd.read_csv('../data/test_input.csv')\n",
    "\n",
    "traininput_size = raw_traininput.shape[0]\n",
    "testinput_size = raw_testinput.shape[0]"
   ]
  },
  {
   "cell_type": "code",
   "execution_count": 97,
   "metadata": {
    "collapsed": true
   },
   "outputs": [],
   "source": [
    "import re\n",
    "\n",
    "def clean_data(data):\n",
    "    data_size = data.shape[0]\n",
    "    tag_regex = '<.*?>|\\n|-|\\'s?|com'\n",
    "    \n",
    "    cleaned_data = pd.DataFrame([ re.sub(tag_regex, '', data['conversation'][i]) \\\n",
    "                    for i in range(data_size) ], columns = {('conversation')})\n",
    "    \n",
    "    return cleaned_data"
   ]
  },
  {
   "cell_type": "code",
   "execution_count": 98,
   "metadata": {
    "collapsed": false
   },
   "outputs": [
    {
     "name": "stdout",
     "output_type": "stream",
     "text": [
      "(165000, 1)\n",
      "0.957333333333\n",
      "             precision    recall  f1-score   support\n",
      "\n",
      "     hockey       0.98      0.98      0.98      4170\n",
      "     movies       0.98      0.99      0.99      4510\n",
      "        nba       0.98      0.97      0.97      3696\n",
      "       news       0.91      0.89      0.90      4256\n",
      "        nfl       0.97      0.98      0.98      3978\n",
      "   politics       0.92      0.93      0.93      3943\n",
      "     soccer       0.98      0.98      0.98      4299\n",
      "  worldnews       0.93      0.95      0.94      4148\n",
      "\n",
      "avg / total       0.96      0.96      0.96     33000\n",
      "\n",
      "[[4073   17   23    5   31    0   17    4]\n",
      " [   2 4462    1   16    2    9    2   16]\n",
      " [  40   17 3570   10   34    2   19    4]\n",
      " [   3   20    6 3772   17  222    3  213]\n",
      " [  30    7   26   15 3887    1    9    3]\n",
      " [   2    5    1  217    2 3654    3   59]\n",
      " [  11    7    8    8   13    4 4232   16]\n",
      " [   6   13    0  105    1   64   17 3942]]\n"
     ]
    }
   ],
   "source": [
    "from sklearn.svm import LinearSVC\n",
    "\n",
    "clean_traininput = clean_data(raw_traininput)\n",
    "print clean_traininput.shape\n",
    "\n",
    "cvec = CountVectorizer(analyzer='word', ngram_range = (1,2))#, stop_words = 'english')\n",
    "\n",
    "classification = Pipeline([('vectorizer', cvec), \\\n",
    "                           ('transformer', TfidfTransformer()), \\\n",
    "                           ('classifier', LinearSVC())])\n",
    "\n",
    "train_data, test_data, train_labels, test_labels = train_test_split(clean_traininput['conversation'], \\\n",
    "                                                                        raw_trainoutput['category'], test_size=0.2, random_state=105)\n",
    "\n",
    "classification = classification.fit(train_data, train_labels)\n",
    "predicted = classification.predict(test_data)\n",
    "print np.mean(predicted == test_labels)\n",
    "print metrics.classification_report(test_labels, predicted)\n",
    "print metrics.confusion_matrix(test_labels, predicted)"
   ]
  },
  {
   "cell_type": "code",
   "execution_count": 99,
   "metadata": {
    "collapsed": false
   },
   "outputs": [
    {
     "name": "stdout",
     "output_type": "stream",
     "text": [
      "(165000, 1)\n",
      "0.958060606061\n",
      "             precision    recall  f1-score   support\n",
      "\n",
      "     hockey       0.98      0.98      0.98      4170\n",
      "     movies       0.98      0.99      0.98      4510\n",
      "        nba       0.98      0.96      0.97      3696\n",
      "       news       0.92      0.88      0.90      4256\n",
      "        nfl       0.97      0.98      0.98      3978\n",
      "   politics       0.93      0.93      0.93      3943\n",
      "     soccer       0.98      0.98      0.98      4299\n",
      "  worldnews       0.92      0.96      0.94      4148\n",
      "\n",
      "avg / total       0.96      0.96      0.96     33000\n",
      "\n",
      "[[4074   15   23    6   32    0   16    4]\n",
      " [   2 4465    1   12    2    9    1   18]\n",
      " [  47   19 3556    9   36    3   22    4]\n",
      " [   2   25    6 3764   18  214    3  224]\n",
      " [  24    7   21   16 3900    1    8    1]\n",
      " [   3    4    1  204    2 3671    3   55]\n",
      " [  15    9    8    9   11    6 4224   17]\n",
      " [   6   12    0   90    1   61   16 3962]]\n"
     ]
    }
   ],
   "source": [
    "from sklearn.svm import LinearSVC\n",
    "\n",
    "clean_traininput = clean_data(raw_traininput)\n",
    "print clean_traininput.shape\n",
    "\n",
    "cvec = CountVectorizer(analyzer='word', ngram_range = (1,3))#, stop_words = 'english')\n",
    "\n",
    "classification = Pipeline([('vectorizer', cvec), \\\n",
    "                           ('transformer', TfidfTransformer()), \\\n",
    "                           ('classifier', LinearSVC())])\n",
    "\n",
    "train_data, test_data, train_labels, test_labels = train_test_split(clean_traininput['conversation'], \\\n",
    "                                                                        raw_trainoutput['category'], test_size=0.2, random_state=105)\n",
    "\n",
    "classification = classification.fit(train_data, train_labels)\n",
    "predicted = classification.predict(test_data)\n",
    "print np.mean(predicted == test_labels)\n",
    "print metrics.classification_report(test_labels, predicted)\n",
    "print metrics.confusion_matrix(test_labels, predicted)"
   ]
  },
  {
   "cell_type": "code",
   "execution_count": 100,
   "metadata": {
    "collapsed": false
   },
   "outputs": [
    {
     "name": "stdout",
     "output_type": "stream",
     "text": [
      "(165000, 1)\n",
      "0.960545454545\n",
      "             precision    recall  f1-score   support\n",
      "\n",
      "     hockey       0.98      0.98      0.98      4170\n",
      "     movies       0.98      0.99      0.99      4510\n",
      "        nba       0.98      0.97      0.97      3696\n",
      "       news       0.92      0.89      0.91      4256\n",
      "        nfl       0.98      0.98      0.98      3978\n",
      "   politics       0.93      0.94      0.93      3943\n",
      "     soccer       0.99      0.98      0.99      4299\n",
      "  worldnews       0.93      0.96      0.94      4148\n",
      "\n",
      "avg / total       0.96      0.96      0.96     33000\n",
      "\n",
      "[[4067   19   24    7   31    0   16    6]\n",
      " [   2 4471    1   10    2    5    3   16]\n",
      " [  41   16 3573    9   31    3   17    6]\n",
      " [   2   23    3 3792   18  218    1  199]\n",
      " [  23    6   23   13 3899    3    8    3]\n",
      " [   1    4    1  192    2 3698    1   44]\n",
      " [  11    8   10    6   12    2 4234   16]\n",
      " [   6   13    0   87    0   61   17 3964]]\n"
     ]
    }
   ],
   "source": [
    "from sklearn.svm import LinearSVC\n",
    "\n",
    "clean_traininput = clean_data(raw_traininput)\n",
    "print clean_traininput.shape\n",
    "\n",
    "cvec = CountVectorizer(analyzer='word', ngram_range = (1,3), stop_words = 'english')\n",
    "\n",
    "classification = Pipeline([('vectorizer', cvec), \\\n",
    "                           ('transformer', TfidfTransformer()), \\\n",
    "                           ('classifier', LinearSVC())])\n",
    "\n",
    "train_data, test_data, train_labels, test_labels = train_test_split(clean_traininput['conversation'], \\\n",
    "                                                                        raw_trainoutput['category'], test_size=0.2, random_state=105)\n",
    "\n",
    "classification = classification.fit(train_data, train_labels)\n",
    "predicted = classification.predict(test_data)\n",
    "print np.mean(predicted == test_labels)\n",
    "print metrics.classification_report(test_labels, predicted)\n",
    "print metrics.confusion_matrix(test_labels, predicted)"
   ]
  },
  {
   "cell_type": "code",
   "execution_count": 101,
   "metadata": {
    "collapsed": false
   },
   "outputs": [
    {
     "name": "stdout",
     "output_type": "stream",
     "text": [
      "(53218, 1)\n"
     ]
    }
   ],
   "source": [
    "clean_testinput = clean_data(raw_testinput)\n",
    "print clean_testinput.shape\n",
    "\n",
    "cvec2 = CountVectorizer(analyzer='word', ngram_range = (1,3), stop_words = 'english')\n",
    "\n",
    "classification2 = Pipeline([('vectorizer', cvec2), \\\n",
    "                           ('transformer', TfidfTransformer()), \\\n",
    "                           ('classifier', LinearSVC())])\n",
    "\n",
    "classification2 = classification2.fit(clean_traininput['conversation'], raw_trainoutput['category'])\n",
    "predicted2 = classification2.predict(clean_testinput['conversation'])"
   ]
  },
  {
   "cell_type": "code",
   "execution_count": 102,
   "metadata": {
    "collapsed": false
   },
   "outputs": [],
   "source": [
    "result = pd.DataFrame({'category' : predicted2})\n",
    "result.to_csv('../data/test_predict.csv', index = True, header = True, index_label = 'id')"
   ]
  },
  {
   "cell_type": "code",
   "execution_count": 103,
   "metadata": {
    "collapsed": false
   },
   "outputs": [
    {
     "data": {
      "text/plain": [
       "(53218, 1)"
      ]
     },
     "execution_count": 103,
     "metadata": {},
     "output_type": "execute_result"
    }
   ],
   "source": [
    "clean_testinput.shape"
   ]
  },
  {
   "cell_type": "code",
   "execution_count": null,
   "metadata": {
    "collapsed": true
   },
   "outputs": [],
   "source": []
  }
 ],
 "metadata": {
  "kernelspec": {
   "display_name": "Python 2",
   "language": "python",
   "name": "python2"
  },
  "language_info": {
   "codemirror_mode": {
    "name": "ipython",
    "version": 2
   },
   "file_extension": ".py",
   "mimetype": "text/x-python",
   "name": "python",
   "nbconvert_exporter": "python",
   "pygments_lexer": "ipython2",
   "version": "2.7.12"
  }
 },
 "nbformat": 4,
 "nbformat_minor": 2
}
